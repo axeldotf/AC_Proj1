{
 "cells": [
  {
   "cell_type": "code",
   "execution_count": 1,
   "metadata": {},
   "outputs": [],
   "source": [
    "# Requirements - uncomment the following line to install required packages\n",
    "# %pip install -q numpy pandas openpyxl"
   ]
  },
  {
   "cell_type": "code",
   "execution_count": 2,
   "metadata": {},
   "outputs": [],
   "source": [
    "import numpy as np\n",
    "import pandas as pd\n",
    "import utils.functions_proj1 as fp1"
   ]
  },
  {
   "cell_type": "markdown",
   "metadata": {},
   "source": [
    "# Project 1: 2-Stage OpAmp"
   ]
  },
  {
   "cell_type": "markdown",
   "metadata": {},
   "source": [
    "<center>\n",
    "    <img src=\"img/2stageopamp.png\" alt=\"2 Stage OPAMP\" style=\"width: 50%\"/>\n",
    "</center>"
   ]
  },
  {
   "cell_type": "markdown",
   "metadata": {},
   "source": [
    "# Design Phase"
   ]
  },
  {
   "cell_type": "markdown",
   "metadata": {},
   "source": [
    "## Project Specifications"
   ]
  },
  {
   "cell_type": "code",
   "execution_count": 3,
   "metadata": {},
   "outputs": [],
   "source": [
    "VDD = 2.5                   # supply voltage\n",
    "VSS = -2.5                  # voltage at the negative supply\n",
    "SR = 5e6                    # slew rate +5/-5 V/µs, converted in V/s\n",
    "CL = 5e-12                  # load capacitance in F\n",
    "MAX_VIN = 2.1               # max common mode input voltage\n",
    "MIN_VIN = -1.3              # min common mode input voltage\n",
    "MAX_VOUT = 2.2              # max output voltage\n",
    "MIN_VOUT = -2.2             # min output voltage\n",
    "GBW = 5e6                   # gain bandwith of 5 MHz expressed in Hz\n",
    "gbw_rad = GBW * 2 * np.pi   # gain bandwith in rad/s\n",
    "DIFF_GAIN = 80              # differential gain in dB, has to be > 80 dB\n",
    "PM = 60                     # phase margin in degrees, has to be > 60 degrees\n",
    "NOISE = 30                  # sqrt(thermal noise) in nV/sqrt(Hz), has to be < 30 nV/sqrt(Hz)"
   ]
  },
  {
   "cell_type": "markdown",
   "metadata": {},
   "source": [
    "## Technological Parameters"
   ]
  },
  {
   "cell_type": "markdown",
   "metadata": {},
   "source": [
    "### nMOS"
   ]
  },
  {
   "cell_type": "code",
   "execution_count": 4,
   "metadata": {},
   "outputs": [],
   "source": [
    "vto_nmos = 0.71       # Threshold voltage (V)\n",
    "phi_nmos = 0.6        # Surface potential (V)\n",
    "gamma_nmos = 0.01     # Body effect coefficient (V^0.5)\n",
    "kp_nmos = 182e-6      # Transconductance parameter (A/V^2), beta prime parameter\n",
    "lambda_nmos = 0.01    # Channel-length modulation parameter\n",
    "tox_nmos = 9.6e-9     # Oxide thickness (m)\n",
    "cj_nmos = 350e-6      # Junction capacitance per unit area (F/m^2)\n",
    "cjsw_nmos = 120e-12   # Sidewall junction capacitance per unit length (F/m)\n",
    "pb_nmos = 0.8         # Built-in potential (V)\n",
    "mj_nmos = 0.33        # Junction grading coefficient\n",
    "mjsw_nmos = 0.33      # Sidewall junction grading coefficient\n",
    "cgdo_nmos = 0.046e-9  # Gate-drain overlap capacitance per unit width (F/m)\n",
    "cgso_nmos = 0.046e-9  # Gate-source overlap capacitance per unit width (F/m)"
   ]
  },
  {
   "cell_type": "markdown",
   "metadata": {},
   "source": [
    "### pMOS"
   ]
  },
  {
   "cell_type": "code",
   "execution_count": 5,
   "metadata": {},
   "outputs": [],
   "source": [
    "vto_pmos = -0.901       # Threshold voltage (V)\n",
    "phi_pmos = 0.6          # Surface potential (V)\n",
    "lambda_pmos = 0.01      # Channel-length modulation parameter\n",
    "tox_pmos = 9.0e-9       # Oxide thickness (m)\n",
    "cj_pmos = 350e-6        # Junction capacitance per unit area (F/m^2)\n",
    "pb_pmos = 0.8           # Built-in potential (V)\n",
    "cgso_pmos = 0.046e-9    # Gate-source overlap capacitance per unit width (F/m)\n",
    "gamma_pmos = 0.01       # Body effect coefficient (V^0.5)\n",
    "kp_pmos = 41.5e-6       # Transconductance parameter (A/V^2), beta prime parameter\n",
    "cjsw_pmos = 120e-12     # Sidewall junction capacitance per unit length (F/m)\n",
    "mjsw_pmos = 0.33        # Sidewall junction grading coefficient\n",
    "cgdo_pmos = 0.046e-9    # Gate-drain overlap capacitance per unit width (F/m)"
   ]
  },
  {
   "cell_type": "markdown",
   "metadata": {},
   "source": [
    "### Other technological parameters"
   ]
  },
  {
   "cell_type": "code",
   "execution_count": 6,
   "metadata": {},
   "outputs": [],
   "source": [
    "epsilon_ox = 3.45e-11               # Oxide permittivity (F/m)\n",
    "Cox_pmos = epsilon_ox / tox_pmos    # Capacitance per unit area (F/m^2) of pmos\n",
    "Cox_nmos = epsilon_ox / tox_nmos    # Capacitance per unit area (F/m^2) of nmos\n",
    "mu_p = kp_pmos / Cox_pmos           # Mobility of holes (m^2/V·s) of pmos\n",
    "mu_n = kp_nmos / Cox_nmos           # Mobility of electrons (m^2/V·s) of nmos\n",
    "T_celsius = 25                      # Temperature in Celsius\n",
    "T_kelvin = T_celsius + 273.15       # Temperature in Kelvin"
   ]
  },
  {
   "cell_type": "markdown",
   "metadata": {},
   "source": [
    "## Phase 1: Transistor Sizing"
   ]
  },
  {
   "cell_type": "markdown",
   "metadata": {},
   "source": [
    "#### 1. Calculate minimum Cc"
   ]
  },
  {
   "cell_type": "markdown",
   "metadata": {},
   "source": [
    "We need to find the *minimum* **compensation capacitance** value in order to respect the given **noise** specification."
   ]
  },
  {
   "cell_type": "markdown",
   "metadata": {},
   "source": [
    "$$\n",
    "noise = \\sqrt{\\frac{v^2_n}{\\Delta f}} \\leq 30 \\frac{nV}{\\sqrt{Hz}} \\quad \\quad \\quad \\quad V_{OV_3} = V_{DD} - V_{IN_{MAX}} - |V_{Tp}| + V_{Tn}\n",
    "$$\n",
    "\n",
    "$$\n",
    "C_{C_{min}} = \\frac{16}{3} \\cdot \\frac{K \\cdot T}{GBW_{rad} \\cdot \\frac{v^2_n}{\\Delta f}} \\cdot \\left( 1 + \\frac{SR}{GBW_{rad} \\cdot V_{OV_3}} \\right)\n",
    "$$"
   ]
  },
  {
   "cell_type": "code",
   "execution_count": 7,
   "metadata": {},
   "outputs": [
    {
     "name": "stdout",
     "output_type": "stream",
     "text": [
      "Vov3 = 0.209 V\n",
      "Cc = 4.111 pF\n"
     ]
    }
   ],
   "source": [
    "Vov3 = VDD - MAX_VIN - abs(vto_pmos) + vto_nmos  # overdrive voltage of M3\n",
    "Cc_min = ((16 * kp_pmos * T_kelvin) / (3 * gbw_rad * NOISE**2)) * (1 + (SR / (gbw_rad * Vov3)))  # compensation capacitance\n",
    "\n",
    "print(f\"Vov3 = {Vov3:.3f} V\\nCc = {Cc_min*1e12:.3f} pF\")"
   ]
  },
  {
   "cell_type": "markdown",
   "metadata": {},
   "source": [
    "#### 2. Current through M5, M6, M7"
   ]
  },
  {
   "cell_type": "markdown",
   "metadata": {},
   "source": [
    "From the **slew rate** specific we can derive $ I_5 $ and $ I_7 = I_6 $:\n",
    "\n",
    "$$\n",
    "C_{C_{charging}} \\quad \\Rightarrow \\quad SR^+ = \\frac{I_5}{C_C}\n",
    "$$\n",
    "\n",
    "$$\n",
    "C_{L_{discharging}} \\quad \\Rightarrow \\quad SR^- = \\frac{I_7 - I_5}{C_L}\n",
    "$$\n",
    "\n",
    "Imposing **charging = discharging**:\n",
    "\n",
    "$$\n",
    "\\frac{I_5}{C_C} = \\frac{I_7 - I_5}{C_L} = SR \\quad \\Rightarrow \\quad \\begin{cases} I_5 = C_C \\cdot SR \\\\ I_7 = I_6 = SR \\cdot (C_C + C_L) \\end{cases}\n",
    "$$"
   ]
  },
  {
   "cell_type": "code",
   "execution_count": 8,
   "metadata": {},
   "outputs": [
    {
     "name": "stdout",
     "output_type": "stream",
     "text": [
      "i5 = 2.056e-05 A\n",
      "i6 = 4.556e-05 A\n",
      "i7 = 4.556e-05 A\n"
     ]
    }
   ],
   "source": [
    "i5 = Cc_min * SR\n",
    "i7 = i6 = SR * (Cc_min + CL)\n",
    "\n",
    "print(f\"i5 = {i5:.3e} A\\ni6 = {i6:.3e} A\\ni7 = {i7:.3e} A\")"
   ]
  },
  {
   "cell_type": "markdown",
   "metadata": {},
   "source": [
    "#### 3. Length of M6"
   ]
  },
  {
   "cell_type": "markdown",
   "metadata": {},
   "source": [
    "In the AC behaviour we have *three poles* and a *zero*:\n",
    "\n",
    "$$\n",
    "\\begin{cases}\n",
    "p_1 = -\\frac{1}{C_{Miller} R_{out1}} = -\\frac{1}{C_c g_{m6} R_{out2} R_{out1}} \\\\\n",
    "p_2 = -\\frac{g_{m6}}{C_L} \\\\\n",
    "p_3 = -\\frac{g_{m6}}{C_{GS6}} \\cdot \\frac{C_c}{C_c + C_L} \\\\\n",
    "z = \\left( 1 + \\frac{1}{g_{m6} R_c} \\right) \\cdot C_c\n",
    "\\end{cases}\n",
    "$$\n",
    "\n",
    "Knowing that:\n",
    "\n",
    "$$\n",
    "C_{GS_6} = \\frac{2}{3} C_{OX} \\mu_p W_6 L_6 \\quad \\quad \\quad \\quad V_{OV_6} = V_{DD} - V_{OUT_{MAX}}\n",
    "$$\n",
    "\n",
    "We can derive the length of the transistor M6 as follows:\n",
    "\n",
    "$$\n",
    "L_6 = \\sqrt{\\frac{3}{2} \\cdot \\frac{\\mu_p \\cdot V_{OV_6} \\cdot C_C}{GBW_{rad} \\cdot (C_C + C_L) \\cdot \\tan(PM)}}\n",
    "$$"
   ]
  },
  {
   "cell_type": "code",
   "execution_count": 9,
   "metadata": {},
   "outputs": [
    {
     "name": "stdout",
     "output_type": "stream",
     "text": [
      "Vov6 = 0.300 V\n",
      "L6 = 6.356 µm\n"
     ]
    }
   ],
   "source": [
    "Vov6 = VDD - MAX_VOUT   # overdrive voltage of M6\n",
    "L6 = np.sqrt((3/2) * ((mu_p * Vov6 * Cc_min) / (gbw_rad * (Cc_min+CL) * np.tan(np.radians(PM)))))  # max length of M6\n",
    "\n",
    "print(f\"Vov6 = {Vov6:.3f} V\\nL6 = {L6*1e6:.3f} µm\")"
   ]
  },
  {
   "cell_type": "markdown",
   "metadata": {},
   "source": [
    "#### 4. Form factor of M6"
   ]
  },
  {
   "cell_type": "markdown",
   "metadata": {},
   "source": [
    "From the $I_{DS}$ equation for a transistor in *saturation region* (such as M6), and knowing $I_6$, we can calculate the form factor of M6:\n",
    "\n",
    "$$\n",
    "I_6 \\simeq \\frac{\\beta'_p}{2} \\cdot S_6 \\cdot V_{OV_6}^2 \\quad \\Rightarrow \\quad S_6 = \\frac{2 \\cdot I_6}{\\beta'_p \\cdot V_{OV_6}^2}\n",
    "$$"
   ]
  },
  {
   "cell_type": "code",
   "execution_count": 10,
   "metadata": {},
   "outputs": [
    {
     "name": "stdout",
     "output_type": "stream",
     "text": [
      "W6 = 155.050 µm\n",
      "S6 = 24.394\n"
     ]
    }
   ],
   "source": [
    "S6 = 2 * i6 / (kp_pmos * Vov6**2)   # aspect ratio of M6\n",
    "W6 = S6 * L6                        # width of M6\n",
    "\n",
    "print(f\"W6 = {W6*1e6:.3f} µm\\nS6 = {S6:.3f}\")"
   ]
  },
  {
   "cell_type": "markdown",
   "metadata": {},
   "source": [
    "#### 5. Currents I1, I2, I3, I4"
   ]
  },
  {
   "cell_type": "markdown",
   "metadata": {},
   "source": [
    "M1, M2, M3, and M4 form a **differential pair** with an active load, and due to the **balancing** conditions we have:\n",
    "\n",
    "$$\n",
    "I_1 = I_2 = I_3 = I_4 = \\frac{I_5}{2}\n",
    "$$"
   ]
  },
  {
   "cell_type": "code",
   "execution_count": 11,
   "metadata": {},
   "outputs": [
    {
     "name": "stdout",
     "output_type": "stream",
     "text": [
      "i1 = i2 = i3 = i4 = 1.028e-05 A\n"
     ]
    }
   ],
   "source": [
    "i1 = i2 = i3 = i4 = i5/2    # current through M1, M2, M3, M4\n",
    "\n",
    "print(f\"i1 = i2 = i3 = i4 = {i1:.3e} A\")"
   ]
  },
  {
   "cell_type": "markdown",
   "metadata": {},
   "source": [
    "#### 6. Form factor of M1, M2"
   ]
  },
  {
   "cell_type": "markdown",
   "metadata": {},
   "source": [
    "Exploiting the **gain bandwidth** specific we can derive $V_{OV_1}$, needed to obtain $S_1 = S_2$:\n",
    "\n",
    "$$\n",
    "\\begin{cases}\n",
    "GBW = A_{d_0} \\cdot |p_1| = \\frac{g_{m_1}}{C_C} \\\\\n",
    "g_{m_1} = \\sqrt{2 \\beta'_n S_1 I_1} = \\frac{2 I_1}{V_{OV_1}} \\\\\n",
    "I_1 = I_2 = \\frac{I_5}{2} = \\frac{SR \\cdot C_C}{2}\n",
    "\\end{cases}\n",
    "\\quad \\Rightarrow \\quad V_{OV_1} = \\frac{SR}{GBW} \\quad \\Rightarrow \\quad S_1 = S_2 = \\frac{2 \\cdot I_1}{\\beta'_n \\cdot V_{OV_1}^2}\n",
    "$$"
   ]
  },
  {
   "cell_type": "code",
   "execution_count": 12,
   "metadata": {},
   "outputs": [
    {
     "name": "stdout",
     "output_type": "stream",
     "text": [
      "Vov1 = 0.159 V\n",
      "S1 = 4.459\n"
     ]
    }
   ],
   "source": [
    "Vov1 = SR / gbw_rad                     # overdrive voltage of M1\n",
    "S1 = (2 * i1) / (kp_nmos * Vov1**2)     # aspect ratio of M1\n",
    "S2 = S1                                 # aspect ratio of M2\n",
    "\n",
    "print(f\"Vov1 = {Vov1:.3f} V\\nS1 = {S1:.3f}\")"
   ]
  },
  {
   "cell_type": "markdown",
   "metadata": {},
   "source": [
    "#### 7. Form factor of M5"
   ]
  },
  {
   "cell_type": "markdown",
   "metadata": {},
   "source": [
    "Looking at the circuit we can derive the formula for $V_{OV_5}$, needed to calculate the form factor of M5:\n",
    "\n",
    "$$\n",
    "V_{OV_5} = V_{IN_{CM_{min}}} - V_{SS} - V_{OV_1} - V_{Tn} \\quad \\Rightarrow \\quad S_5 = \\frac{2 \\cdot I_5}{\\beta'_n \\cdot V_{OV_5}^2}\n",
    "$$"
   ]
  },
  {
   "cell_type": "code",
   "execution_count": 13,
   "metadata": {},
   "outputs": [
    {
     "name": "stdout",
     "output_type": "stream",
     "text": [
      "Vov5 = 0.331 V\n",
      "S5 = 2.064\n"
     ]
    }
   ],
   "source": [
    "Vov5 = MIN_VIN - VSS - Vov1 - vto_nmos  # overdrive voltage of M5\n",
    "S5 = (2 * i5) / (kp_nmos * Vov5**2)     # aspect ratio of M5\n",
    "\n",
    "print(f\"Vov5 = {Vov5:.3f} V\\nS5 = {S5:.3f}\")"
   ]
  },
  {
   "cell_type": "markdown",
   "metadata": {},
   "source": [
    "#### 8. Form factor of M7"
   ]
  },
  {
   "cell_type": "markdown",
   "metadata": {},
   "source": [
    "Since M5 and M7 share the *same overdrive voltage*:\n",
    "\n",
    "$$V_{OV_5} = V_{OV_7} \\quad \\Rightarrow \\quad \\frac{I_7}{I_5} = \\frac{S_7}{S_5} \\quad \\Rightarrow \\quad S_7 = \\frac{C_C + C_L}{C_C} \\cdot S_5$$"
   ]
  },
  {
   "cell_type": "code",
   "execution_count": 14,
   "metadata": {},
   "outputs": [
    {
     "name": "stdout",
     "output_type": "stream",
     "text": [
      "Vov7 = 0.331 V\n",
      "S7 = 4.574\n"
     ]
    }
   ],
   "source": [
    "Vov7 = Vov5                 # overdrive voltage of M7\n",
    "S7 = (Cc_min + CL) / Cc_min * S5    # aspect ratio of M7\n",
    "\n",
    "print(f\"Vov7 = {Vov7:.3f} V\\nS7 = {S7:.3f}\")"
   ]
  },
  {
   "cell_type": "markdown",
   "metadata": {},
   "source": [
    "#### 9. Form factor of M3, M4"
   ]
  },
  {
   "cell_type": "markdown",
   "metadata": {},
   "source": [
    "M3 build together with M4 a ***current mirror***. The ICMR analysis needs the OPAMP to be balanced, which means that the current flowing in one branch is equal to the current flowing in the other.\n",
    "\n",
    "In order to achieve **perfect balancing** we need:\n",
    "\n",
    "$$ \\begin{cases} V_{OV_4} = V_{OV_3} \\\\ I_4 = I_3 \\end{cases} \\quad \\Rightarrow \\quad S_4 = S_3 = \\frac{S_6}{2 S_7} \\cdot S_5$$"
   ]
  },
  {
   "cell_type": "code",
   "execution_count": 15,
   "metadata": {},
   "outputs": [
    {
     "name": "stdout",
     "output_type": "stream",
     "text": [
      "S3 = S4 = 5.504\n"
     ]
    }
   ],
   "source": [
    "S3 = (S6 / (2 * S7)) * S5   # aspect ratio of M3\n",
    "S4 = S3                     # aspect ratio of M4\n",
    "\n",
    "print(f\"S3 = S4 = {S3:.3f}\")"
   ]
  },
  {
   "cell_type": "markdown",
   "metadata": {},
   "source": [
    "#### 10. Form factor of M9"
   ]
  },
  {
   "cell_type": "markdown",
   "metadata": {},
   "source": [
    "Transistor M9 operates in **linear region**, because we want it to act as a ***resistive component*** to balance the zero effect. We extract the relation needed for the sizing of M9 by the equation derived for the *zero-nulling resistance* $ R_C $ (seen later):\n",
    "\n",
    "$$\n",
    "\\frac{1}{g_{m_6}} \\left(1 + \\frac{C_L}{C_C}\\right) = \\frac{1}{\\beta'_p S_9 V_{OV_{12}}}\n",
    "$$\n",
    "\n",
    "Assuming $ S_{12} = S_{13} $, $ V_{OV_{12}} = V_{OV_{13}} $ and $ V_{OV_{13}} = V_{OV_6} $:\n",
    "\n",
    "$$\n",
    "S_9 = \\frac{C_C}{C_C + C_L} \\cdot \\sqrt{\\frac{S_{12} S_6 I_6}{I_{12}}} = \\frac{C_C}{C_C + C_L} \\cdot S_6\n",
    "$$"
   ]
  },
  {
   "cell_type": "code",
   "execution_count": 16,
   "metadata": {},
   "outputs": [
    {
     "name": "stdout",
     "output_type": "stream",
     "text": [
      "S9 = 11.007\n",
      "S9_reduced = 9.907\n"
     ]
    }
   ],
   "source": [
    "S9 = (Cc_min / (Cc_min + CL)) * S6  # aspect ratio of M9\n",
    "S9_reduced = 0.9 * S9\n",
    "\n",
    "print(f\"S9 = {S9:.3f}\")\n",
    "print(f\"S9_reduced = {S9_reduced:.3f}\")"
   ]
  },
  {
   "cell_type": "code",
   "execution_count": 17,
   "metadata": {},
   "outputs": [
    {
     "name": "stdout",
     "output_type": "stream",
     "text": [
      "i8 = 1.140e-05 A\n",
      "S8 = 1.489\n",
      "i14 = 2.056e-05 A\n",
      "S14 = 2.686\n"
     ]
    }
   ],
   "source": [
    "i14 = i5   \n",
    "Vov14_max = 0.29 # considering Vs = -2.5 V and Vd = -2 V otherwise M10,M11 are in triode region\n",
    "\n",
    "S14 = (2 * i14) / (kp_nmos * Vov14_max**2)  # aspect ratio of M14\n",
    "S8 = 4 / S14\n",
    "\n",
    "i8 = i14 * S8 / S14\n",
    "\n",
    "print(f\"i8 = {i8:.3e} A\\nS8 = {S8:.3f}\\ni14 = {i14:.3e} A\\nS14 = {S14:.3f}\")"
   ]
  },
  {
   "cell_type": "code",
   "execution_count": 18,
   "metadata": {},
   "outputs": [
    {
     "name": "stdout",
     "output_type": "stream",
     "text": [
      "i10 = i11 = i12 = i13 = 1.140e-05 A\n",
      "S10 = S11 = S12 = S13 = 1.489\n"
     ]
    }
   ],
   "source": [
    "i10 = i11 = i12 = i13 = i8\n",
    "Vov10 = Vov14_max\n",
    "\n",
    "S10 = S11 = S12 = S13 = (2 * i10) / (kp_nmos * Vov10**2)  # aspect ratio of M10\n",
    "\n",
    "print(f\"i10 = i11 = i12 = i13 = {i10:.3e} A\")\n",
    "print(f\"S10 = S11 = S12 = S13 = {S10:.3f}\")\n"
   ]
  },
  {
   "cell_type": "markdown",
   "metadata": {},
   "source": [
    "### Biasing Resistor Rb"
   ]
  },
  {
   "cell_type": "markdown",
   "metadata": {},
   "source": [
    "To define the value of the **biasing resistor** $R_B$ we use the following relationships:\n",
    "\n",
    "$$\n",
    "R_B = \\frac{2}{g_{m_8}} \\left(1 - \\sqrt{\\frac{S_8}{S_{14}}}\\right)\n",
    "$$"
   ]
  },
  {
   "cell_type": "code",
   "execution_count": 19,
   "metadata": {},
   "outputs": [
    {
     "name": "stdout",
     "output_type": "stream",
     "text": [
      "Rb = 99.63 kOhm\n"
     ]
    }
   ],
   "source": [
    "gm8 = np.sqrt(2 * kp_nmos * i8 * S8)        # transconductance of M8\n",
    "rb = 2 / (gm8 * (1 - np.sqrt(S8 / S14)))    # biasing resistor\n",
    "\n",
    "print(f\"Rb = {rb/1e3:.2f} kOhm\")"
   ]
  },
  {
   "cell_type": "markdown",
   "metadata": {},
   "source": [
    "### Zero-nulling Resistor Rc"
   ]
  },
  {
   "cell_type": "markdown",
   "metadata": {},
   "source": [
    "We use transistor M9 in **linear region** to emulate the behavior of a resistor $R_C$, in order to *balance the effect of the zero* by properly tuning the value of this resistance:\n",
    "\n",
    "$$\n",
    "R_C = \\frac{1}{\\beta'_p \\cdot S_9 \\cdot V_{OV_9}}\n",
    "$$\n",
    "\n",
    "$$\n",
    "R_C = \\frac{C_L+C_C}{C_C} \\cdot \\frac{1}{\\sqrt{2 \\beta'_p S_6 I_6}} = \\frac{1}{g_{m_6}} \\left(1+\\frac{C_L}{C_C}\\right)\n",
    "$$"
   ]
  },
  {
   "cell_type": "code",
   "execution_count": 20,
   "metadata": {},
   "outputs": [
    {
     "name": "stdout",
     "output_type": "stream",
     "text": [
      "gm6 = 3.037e-04 S\n",
      "Rc = 7.30 kOhm\n"
     ]
    }
   ],
   "source": [
    "gm6 = kp_pmos * S6 * Vov6       # transconductance of M6\n",
    "Rc = 1 / gm6 * (1 + (CL/Cc_min))    # zero nulling resistor\n",
    "\n",
    "print(f\"gm6 = {gm6:.3e} S\")\n",
    "print(f\"Rc = {Rc/1e3:.2f} kOhm\")"
   ]
  },
  {
   "cell_type": "markdown",
   "metadata": {},
   "source": [
    "### DC Gain\n",
    "$$\n",
    "A_d \\simeq \\frac{g_{m_1}}{g_{o_2}+g_{o_4}} \\cdot \\frac{g_{m_6}}{g_{o_6}+g_{o_7}}\n",
    "$$"
   ]
  },
  {
   "cell_type": "code",
   "execution_count": 21,
   "metadata": {},
   "outputs": [
    {
     "name": "stdout",
     "output_type": "stream",
     "text": [
      "DC gain ≃ 106.42 dB\n"
     ]
    }
   ],
   "source": [
    "gm1 = np.sqrt(2 * kp_nmos * i1 * S1)    # transconductance of M1\n",
    "go2 = lambda_nmos * i2                  # output conductance of M2\n",
    "go4 = lambda_pmos * i4                  # output conductance of M4\n",
    "go6 = lambda_pmos * i6                  # output conductance of M6\n",
    "go7 = lambda_nmos * i7                  # output conductance of M7\n",
    "\n",
    "Ad = gm1 / (go2 + go4) * gm6 / (go6 + go7)  # DC gain\n",
    "Ad_dB = 20 * np.log10(Ad)                   # DC gain in dB\n",
    "\n",
    "print(f\"DC gain ≃ {Ad_dB:.2f} dB\")"
   ]
  },
  {
   "cell_type": "markdown",
   "metadata": {},
   "source": [
    "### Power Dissipation"
   ]
  },
  {
   "cell_type": "markdown",
   "metadata": {},
   "source": [
    "We can calculate the **power dissipation** of our circuit knowing the *second stage current* $I_7$, the *differential pair current* $I_5$ and the *voltage drop across the circuit* $V_{DD}-V_{SS}$:\n",
    "\n",
    "$$\n",
    "P_D  =  (I_7 + I_5)(V_{DD} - V_{SS})  =  \\left[ SR(C_C + C_L) + SR \\cdot C_C \\right](V_{DD} - V_{SS})\n",
    "$$"
   ]
  },
  {
   "cell_type": "code",
   "execution_count": 22,
   "metadata": {},
   "outputs": [
    {
     "name": "stdout",
     "output_type": "stream",
     "text": [
      "Power dissipation = 0.331 mW\n"
     ]
    }
   ],
   "source": [
    "pow_d = (SR * Cc_min + SR * (Cc_min + CL)) * (VDD - VSS)  # power dissipation\n",
    "\n",
    "print(f\"Power dissipation = {pow_d*1e3:.3f} mW\")"
   ]
  },
  {
   "cell_type": "markdown",
   "metadata": {},
   "source": [
    "## Phase 2: AC Analysis"
   ]
  },
  {
   "cell_type": "markdown",
   "metadata": {},
   "source": [
    "$$\n",
    "\\begin{cases}\n",
    "p_1 = -\\frac{1}{C_{Miller} R_{out1}} = -\\frac{1}{C_c g_{m6} R_{out2} R_{out1}} \\\\\n",
    "p_2 = -\\frac{g_{m6}}{C_L} \\\\\n",
    "p_3 = -\\frac{g_{m6}}{C_{GS6}} \\cdot \\frac{C_c}{C_c + C_L} \\\\\n",
    "z = \\left( 1 + \\frac{1}{g_{m6} R_c} \\right) \\cdot C_c\n",
    "\\end{cases}\n",
    "$$\n",
    "$$C_{GS_6} = \\frac{2}{3} \\cdot C_{OX} \\cdot \\mu_p \\cdot W_6 \\cdot L_6$$"
   ]
  },
  {
   "cell_type": "code",
   "execution_count": 23,
   "metadata": {},
   "outputs": [],
   "source": [
    "rout1 = 1 / lambda_nmos * i2\n",
    "rout2 = 1 / lambda_nmos * i4\n",
    "cgs6 = 2 / 3 * (Cox_pmos * W6 * L6)\n",
    "\n",
    "p1 = - 1 / (Cc_min * gm6 * rout1 * rout2)\n",
    "# p1 = - GBW / Ad * 2 * np.pi\n",
    "# p1 = - GBW * 2 * np.pi\n",
    "p2 = - gm6 / CL\n",
    "p3 = - (gm6 / cgs6) * (Cc_min / (Cc_min + CL))\n",
    "z = (1 + 1/(gm6 * Rc)) * Cc_min\n",
    "\n",
    "poles = [p1, p2, p3]\n",
    "zeros = [z]"
   ]
  },
  {
   "cell_type": "code",
   "execution_count": 24,
   "metadata": {},
   "outputs": [
    {
     "data": {
      "application/vnd.microsoft.datawrangler.viewer.v0+json": {
       "columns": [
        {
         "name": "index",
         "rawType": "int64",
         "type": "integer"
        },
        {
         "name": "Type",
         "rawType": "object",
         "type": "string"
        },
        {
         "name": "Index",
         "rawType": "object",
         "type": "string"
        },
        {
         "name": "Value (rad/s)",
         "rawType": "object",
         "type": "string"
        },
        {
         "name": "Freq (Hz)",
         "rawType": "object",
         "type": "string"
        }
       ],
       "ref": "70c3a779-47c0-4f21-ad29-abe1a2108f60",
       "rows": [
        [
         "0",
         "Pole",
         "p1",
         "-7.58e+20",
         "1.21e+20"
        ],
        [
         "1",
         "Pole",
         "p2",
         "-6.07e+07",
         "9.67e+06"
        ],
        [
         "2",
         "Pole",
         "p3",
         "-5.44e+07",
         "8.66e+06"
        ],
        [
         "3",
         "Zero",
         "z1",
         "5.97e-12",
         "9.50e-13"
        ]
       ],
       "shape": {
        "columns": 4,
        "rows": 4
       }
      },
      "text/html": [
       "<div>\n",
       "<style scoped>\n",
       "    .dataframe tbody tr th:only-of-type {\n",
       "        vertical-align: middle;\n",
       "    }\n",
       "\n",
       "    .dataframe tbody tr th {\n",
       "        vertical-align: top;\n",
       "    }\n",
       "\n",
       "    .dataframe thead th {\n",
       "        text-align: right;\n",
       "    }\n",
       "</style>\n",
       "<table border=\"1\" class=\"dataframe\">\n",
       "  <thead>\n",
       "    <tr style=\"text-align: right;\">\n",
       "      <th></th>\n",
       "      <th>Type</th>\n",
       "      <th>Index</th>\n",
       "      <th>Value (rad/s)</th>\n",
       "      <th>Freq (Hz)</th>\n",
       "    </tr>\n",
       "  </thead>\n",
       "  <tbody>\n",
       "    <tr>\n",
       "      <th>0</th>\n",
       "      <td>Pole</td>\n",
       "      <td>p1</td>\n",
       "      <td>-7.58e+20</td>\n",
       "      <td>1.21e+20</td>\n",
       "    </tr>\n",
       "    <tr>\n",
       "      <th>1</th>\n",
       "      <td>Pole</td>\n",
       "      <td>p2</td>\n",
       "      <td>-6.07e+07</td>\n",
       "      <td>9.67e+06</td>\n",
       "    </tr>\n",
       "    <tr>\n",
       "      <th>2</th>\n",
       "      <td>Pole</td>\n",
       "      <td>p3</td>\n",
       "      <td>-5.44e+07</td>\n",
       "      <td>8.66e+06</td>\n",
       "    </tr>\n",
       "    <tr>\n",
       "      <th>3</th>\n",
       "      <td>Zero</td>\n",
       "      <td>z1</td>\n",
       "      <td>5.97e-12</td>\n",
       "      <td>9.50e-13</td>\n",
       "    </tr>\n",
       "  </tbody>\n",
       "</table>\n",
       "</div>"
      ],
      "text/plain": [
       "   Type Index Value (rad/s) Freq (Hz)\n",
       "0  Pole    p1     -7.58e+20  1.21e+20\n",
       "1  Pole    p2     -6.07e+07  9.67e+06\n",
       "2  Pole    p3     -5.44e+07  8.66e+06\n",
       "3  Zero    z1      5.97e-12  9.50e-13"
      ]
     },
     "execution_count": 24,
     "metadata": {},
     "output_type": "execute_result"
    }
   ],
   "source": [
    "pz_data = []\n",
    "\n",
    "for i, p in enumerate(poles):\n",
    "    pz_data.append((\"Pole\", f\"p{i+1}\", fp1.format_value(p), fp1.format_freq(p)))\n",
    "for i, z in enumerate(zeros):\n",
    "    pz_data.append((\"Zero\", f\"z{i+1}\", fp1.format_value(z), fp1.format_freq(z)))\n",
    "\n",
    "df_pz_f = pd.DataFrame(pz_data, columns=[\"Type\", \"Index\", \"Value (rad/s)\", \"Freq (Hz)\"])\n",
    "df_pz_f"
   ]
  },
  {
   "cell_type": "markdown",
   "metadata": {},
   "source": [
    "# Recap: Transistors Sizing"
   ]
  },
  {
   "cell_type": "code",
   "execution_count": 25,
   "metadata": {},
   "outputs": [
    {
     "data": {
      "application/vnd.microsoft.datawrangler.viewer.v0+json": {
       "columns": [
        {
         "name": "index",
         "rawType": "int64",
         "type": "integer"
        },
        {
         "name": "Transistor",
         "rawType": "object",
         "type": "string"
        },
        {
         "name": "W (µm)",
         "rawType": "object",
         "type": "string"
        },
        {
         "name": "L (µm)",
         "rawType": "object",
         "type": "string"
        },
        {
         "name": "W/L",
         "rawType": "object",
         "type": "string"
        },
        {
         "name": "I (µA)",
         "rawType": "object",
         "type": "string"
        }
       ],
       "ref": "d6669456-e05c-4d81-8680-9afdda439e9b",
       "rows": [
        [
         "0",
         "M1",
         "4.46",
         "1.00",
         "4.46",
         "10.28"
        ],
        [
         "1",
         "M2",
         "4.46",
         "1.00",
         "4.46",
         "10.28"
        ],
        [
         "2",
         "M3",
         "5.50",
         "1.00",
         "5.50",
         "10.28"
        ],
        [
         "3",
         "M4",
         "5.50",
         "1.00",
         "5.50",
         "10.28"
        ],
        [
         "4",
         "M5",
         "2.06",
         "1.00",
         "2.06",
         "20.56"
        ],
        [
         "5",
         "M6",
         "155.05",
         "6.36",
         "24.39",
         "45.56"
        ],
        [
         "6",
         "M7",
         "4.57",
         "1.00",
         "4.57",
         "45.56"
        ],
        [
         "7",
         "M8",
         "1.49",
         "1.00",
         "1.49",
         "11.40"
        ],
        [
         "8",
         "M9",
         "11.01",
         "1.00",
         "11.01",
         "0.00"
        ],
        [
         "9",
         "M10",
         "1.49",
         "1.00",
         "1.49",
         "11.40"
        ],
        [
         "10",
         "M11",
         "1.49",
         "1.00",
         "1.49",
         "11.40"
        ],
        [
         "11",
         "M12",
         "1.49",
         "1.00",
         "1.49",
         "11.40"
        ],
        [
         "12",
         "M13",
         "1.49",
         "1.00",
         "1.49",
         "11.40"
        ],
        [
         "13",
         "M14",
         "2.69",
         "1.00",
         "2.69",
         "20.56"
        ]
       ],
       "shape": {
        "columns": 5,
        "rows": 14
       }
      },
      "text/html": [
       "<div>\n",
       "<style scoped>\n",
       "    .dataframe tbody tr th:only-of-type {\n",
       "        vertical-align: middle;\n",
       "    }\n",
       "\n",
       "    .dataframe tbody tr th {\n",
       "        vertical-align: top;\n",
       "    }\n",
       "\n",
       "    .dataframe thead th {\n",
       "        text-align: right;\n",
       "    }\n",
       "</style>\n",
       "<table border=\"1\" class=\"dataframe\">\n",
       "  <thead>\n",
       "    <tr style=\"text-align: right;\">\n",
       "      <th></th>\n",
       "      <th>Transistor</th>\n",
       "      <th>W (µm)</th>\n",
       "      <th>L (µm)</th>\n",
       "      <th>W/L</th>\n",
       "      <th>I (µA)</th>\n",
       "    </tr>\n",
       "  </thead>\n",
       "  <tbody>\n",
       "    <tr>\n",
       "      <th>0</th>\n",
       "      <td>M1</td>\n",
       "      <td>4.46</td>\n",
       "      <td>1.00</td>\n",
       "      <td>4.46</td>\n",
       "      <td>10.28</td>\n",
       "    </tr>\n",
       "    <tr>\n",
       "      <th>1</th>\n",
       "      <td>M2</td>\n",
       "      <td>4.46</td>\n",
       "      <td>1.00</td>\n",
       "      <td>4.46</td>\n",
       "      <td>10.28</td>\n",
       "    </tr>\n",
       "    <tr>\n",
       "      <th>2</th>\n",
       "      <td>M3</td>\n",
       "      <td>5.50</td>\n",
       "      <td>1.00</td>\n",
       "      <td>5.50</td>\n",
       "      <td>10.28</td>\n",
       "    </tr>\n",
       "    <tr>\n",
       "      <th>3</th>\n",
       "      <td>M4</td>\n",
       "      <td>5.50</td>\n",
       "      <td>1.00</td>\n",
       "      <td>5.50</td>\n",
       "      <td>10.28</td>\n",
       "    </tr>\n",
       "    <tr>\n",
       "      <th>4</th>\n",
       "      <td>M5</td>\n",
       "      <td>2.06</td>\n",
       "      <td>1.00</td>\n",
       "      <td>2.06</td>\n",
       "      <td>20.56</td>\n",
       "    </tr>\n",
       "    <tr>\n",
       "      <th>5</th>\n",
       "      <td>M6</td>\n",
       "      <td>155.05</td>\n",
       "      <td>6.36</td>\n",
       "      <td>24.39</td>\n",
       "      <td>45.56</td>\n",
       "    </tr>\n",
       "    <tr>\n",
       "      <th>6</th>\n",
       "      <td>M7</td>\n",
       "      <td>4.57</td>\n",
       "      <td>1.00</td>\n",
       "      <td>4.57</td>\n",
       "      <td>45.56</td>\n",
       "    </tr>\n",
       "    <tr>\n",
       "      <th>7</th>\n",
       "      <td>M8</td>\n",
       "      <td>1.49</td>\n",
       "      <td>1.00</td>\n",
       "      <td>1.49</td>\n",
       "      <td>11.40</td>\n",
       "    </tr>\n",
       "    <tr>\n",
       "      <th>8</th>\n",
       "      <td>M9</td>\n",
       "      <td>11.01</td>\n",
       "      <td>1.00</td>\n",
       "      <td>11.01</td>\n",
       "      <td>0.00</td>\n",
       "    </tr>\n",
       "    <tr>\n",
       "      <th>9</th>\n",
       "      <td>M10</td>\n",
       "      <td>1.49</td>\n",
       "      <td>1.00</td>\n",
       "      <td>1.49</td>\n",
       "      <td>11.40</td>\n",
       "    </tr>\n",
       "    <tr>\n",
       "      <th>10</th>\n",
       "      <td>M11</td>\n",
       "      <td>1.49</td>\n",
       "      <td>1.00</td>\n",
       "      <td>1.49</td>\n",
       "      <td>11.40</td>\n",
       "    </tr>\n",
       "    <tr>\n",
       "      <th>11</th>\n",
       "      <td>M12</td>\n",
       "      <td>1.49</td>\n",
       "      <td>1.00</td>\n",
       "      <td>1.49</td>\n",
       "      <td>11.40</td>\n",
       "    </tr>\n",
       "    <tr>\n",
       "      <th>12</th>\n",
       "      <td>M13</td>\n",
       "      <td>1.49</td>\n",
       "      <td>1.00</td>\n",
       "      <td>1.49</td>\n",
       "      <td>11.40</td>\n",
       "    </tr>\n",
       "    <tr>\n",
       "      <th>13</th>\n",
       "      <td>M14</td>\n",
       "      <td>2.69</td>\n",
       "      <td>1.00</td>\n",
       "      <td>2.69</td>\n",
       "      <td>20.56</td>\n",
       "    </tr>\n",
       "  </tbody>\n",
       "</table>\n",
       "</div>"
      ],
      "text/plain": [
       "   Transistor  W (µm) L (µm)    W/L I (µA)\n",
       "0          M1    4.46   1.00   4.46  10.28\n",
       "1          M2    4.46   1.00   4.46  10.28\n",
       "2          M3    5.50   1.00   5.50  10.28\n",
       "3          M4    5.50   1.00   5.50  10.28\n",
       "4          M5    2.06   1.00   2.06  20.56\n",
       "5          M6  155.05   6.36  24.39  45.56\n",
       "6          M7    4.57   1.00   4.57  45.56\n",
       "7          M8    1.49   1.00   1.49  11.40\n",
       "8          M9   11.01   1.00  11.01   0.00\n",
       "9         M10    1.49   1.00   1.49  11.40\n",
       "10        M11    1.49   1.00   1.49  11.40\n",
       "11        M12    1.49   1.00   1.49  11.40\n",
       "12        M13    1.49   1.00   1.49  11.40\n",
       "13        M14    2.69   1.00   2.69  20.56"
      ]
     },
     "execution_count": 25,
     "metadata": {},
     "output_type": "execute_result"
    }
   ],
   "source": [
    "# Recap of transistor dimensions and currents\n",
    "transistor_data = [\n",
    "    (\"M1\", S1, 1, S1 / 1, i1),\n",
    "    (\"M2\", S2, 1, S2 / 1, i2),\n",
    "    (\"M3\", S3, 1, S3 / 1, i3),\n",
    "    (\"M4\", S4, 1, S4 / 1, i4),\n",
    "    (\"M5\", S5, 1, S5 / 1, i5),\n",
    "    (\"M6\", W6 * 1e6, L6 * 1e6, S6, i6),\n",
    "    (\"M7\", S7, 1, S7 / 1, i7),\n",
    "    (\"M8\", S8, 1, S8 / 1, i8),\n",
    "    (\"M9\", S9, 1, S9 / 1, 0),\n",
    "    (\"M10\", S10, 1, S10 / 1, i10),\n",
    "    (\"M11\", S11, 1, S11 / 1, i11),\n",
    "    (\"M12\", S12, 1, S12 / 1, i12),\n",
    "    (\"M13\", S13, 1, S13 / 1, i13),\n",
    "    (\"M14\", S14, 1, S14 / 1, i14),\n",
    "]\n",
    "\n",
    "df_transistors_f = pd.DataFrame(transistor_data, columns=[\"Transistor\", \"W (µm)\", \"L (µm)\", \"W/L\", \"I (A)\"]).assign(**{\n",
    "        \"W (µm)\": lambda df: df[\"W (µm)\"].map(\"{:.2f}\".format),\n",
    "        \"L (µm)\": lambda df: df[\"L (µm)\"].map(\"{:.2f}\".format),\n",
    "        \"W/L\":    lambda df: df[\"W/L\"].map(\"{:.2f}\".format),\n",
    "        \"I (µA)\": lambda df: (df[\"I (A)\"] * 1e6).map(\"{:.2f}\".format)\n",
    "    }).drop(columns=[\"I (A)\"])\n",
    "df_transistors_f"
   ]
  },
  {
   "cell_type": "code",
   "execution_count": 26,
   "metadata": {},
   "outputs": [
    {
     "data": {
      "application/vnd.microsoft.datawrangler.viewer.v0+json": {
       "columns": [
        {
         "name": "index",
         "rawType": "int64",
         "type": "integer"
        },
        {
         "name": "Parameter",
         "rawType": "object",
         "type": "string"
        },
        {
         "name": "Symbol",
         "rawType": "object",
         "type": "string"
        },
        {
         "name": "Value",
         "rawType": "object",
         "type": "string"
        }
       ],
       "ref": "6d006326-5cd7-4112-97a0-7504cc73ae7d",
       "rows": [
        [
         "0",
         "Compensation Capacitance",
         "Cc",
         "4.11 pF"
        ],
        [
         "1",
         "Zero-nulling Resistor",
         "Rc",
         "7.30 kΩ"
        ],
        [
         "2",
         "Biasing Resistor",
         "Rb",
         "99.63 kΩ"
        ],
        [
         "3",
         "DC Gain",
         "Ad",
         "106.42 dB"
        ],
        [
         "4",
         "Power Dissipation",
         "Pd",
         "0.33 mW"
        ]
       ],
       "shape": {
        "columns": 3,
        "rows": 5
       }
      },
      "text/html": [
       "<div>\n",
       "<style scoped>\n",
       "    .dataframe tbody tr th:only-of-type {\n",
       "        vertical-align: middle;\n",
       "    }\n",
       "\n",
       "    .dataframe tbody tr th {\n",
       "        vertical-align: top;\n",
       "    }\n",
       "\n",
       "    .dataframe thead th {\n",
       "        text-align: right;\n",
       "    }\n",
       "</style>\n",
       "<table border=\"1\" class=\"dataframe\">\n",
       "  <thead>\n",
       "    <tr style=\"text-align: right;\">\n",
       "      <th></th>\n",
       "      <th>Parameter</th>\n",
       "      <th>Symbol</th>\n",
       "      <th>Value</th>\n",
       "    </tr>\n",
       "  </thead>\n",
       "  <tbody>\n",
       "    <tr>\n",
       "      <th>0</th>\n",
       "      <td>Compensation Capacitance</td>\n",
       "      <td>Cc</td>\n",
       "      <td>4.11 pF</td>\n",
       "    </tr>\n",
       "    <tr>\n",
       "      <th>1</th>\n",
       "      <td>Zero-nulling Resistor</td>\n",
       "      <td>Rc</td>\n",
       "      <td>7.30 kΩ</td>\n",
       "    </tr>\n",
       "    <tr>\n",
       "      <th>2</th>\n",
       "      <td>Biasing Resistor</td>\n",
       "      <td>Rb</td>\n",
       "      <td>99.63 kΩ</td>\n",
       "    </tr>\n",
       "    <tr>\n",
       "      <th>3</th>\n",
       "      <td>DC Gain</td>\n",
       "      <td>Ad</td>\n",
       "      <td>106.42 dB</td>\n",
       "    </tr>\n",
       "    <tr>\n",
       "      <th>4</th>\n",
       "      <td>Power Dissipation</td>\n",
       "      <td>Pd</td>\n",
       "      <td>0.33 mW</td>\n",
       "    </tr>\n",
       "  </tbody>\n",
       "</table>\n",
       "</div>"
      ],
      "text/plain": [
       "                  Parameter Symbol      Value\n",
       "0  Compensation Capacitance     Cc    4.11 pF\n",
       "1     Zero-nulling Resistor     Rc    7.30 kΩ\n",
       "2          Biasing Resistor     Rb   99.63 kΩ\n",
       "3                   DC Gain     Ad  106.42 dB\n",
       "4         Power Dissipation     Pd    0.33 mW"
      ]
     },
     "execution_count": 26,
     "metadata": {},
     "output_type": "execute_result"
    }
   ],
   "source": [
    "component_data = [\n",
    "    [\"Compensation Capacitance\", \"Cc\", f\"{Cc_min * 1e12:.2f} pF\"],\n",
    "    [\"Zero-nulling Resistor\", \"Rc\", f\"{Rc / 1e3:.2f} kΩ\"],\n",
    "    [\"Biasing Resistor\", \"Rb\", f\"{rb / 1e3:.2f} kΩ\"],\n",
    "    [\"DC Gain\", \"Ad\", f\"{Ad_dB:.2f} dB\"],\n",
    "    [\"Power Dissipation\", \"Pd\", f\"{pow_d * 1e3:.2f} mW\"]\n",
    "]\n",
    "\n",
    "comp_headers = [\"Parameter\", \"Symbol\", \"Value\"]\n",
    "df_components_f = pd.DataFrame(component_data, columns=comp_headers)\n",
    "df_components_f"
   ]
  },
  {
   "cell_type": "code",
   "execution_count": 27,
   "metadata": {},
   "outputs": [
    {
     "name": "stdout",
     "output_type": "stream",
     "text": [
      "Output file 'output_proj1_v2.xlsx' saved in the current folder.\n"
     ]
    }
   ],
   "source": [
    "# All dataframes are saved in an external xslx file\n",
    "dfs = {\n",
    "    name: val for name, val in globals().items()\n",
    "    if isinstance(val, pd.DataFrame) and name.endswith(\"_f\")\n",
    "}\n",
    "fp1.save_df(dfs, \"output_proj1_v2\")"
   ]
  },
  {
   "cell_type": "markdown",
   "metadata": {},
   "source": [
    "# SPICE Plots Analysis\n",
    "In this section, the results obtained from the circuit simulations will be analyzed, based on the given specifications and the calculated sizing values."
   ]
  },
  {
   "cell_type": "markdown",
   "metadata": {},
   "source": [
    "## ICMR"
   ]
  },
  {
   "cell_type": "markdown",
   "metadata": {},
   "source": [
    "<center>\n",
    "    <img src=\"LTSpice proj/img/icmr_v2_withvalues.png\" alt=\"Resulting ICMR\" style=\"width: 100%\"/>\n",
    "</center>"
   ]
  },
  {
   "cell_type": "markdown",
   "metadata": {},
   "source": [
    "## Output Range"
   ]
  },
  {
   "cell_type": "markdown",
   "metadata": {},
   "source": [
    "<center>\n",
    "    <img src=\"LTSpice proj/img/out_swing_v2.png\" alt=\"Output Range\" style=\"width: 100%\"/>\n",
    "</center>"
   ]
  },
  {
   "cell_type": "markdown",
   "metadata": {},
   "source": [
    "## Frequency Analysis"
   ]
  },
  {
   "cell_type": "markdown",
   "metadata": {},
   "source": [
    "<center>\n",
    "    <img src=\"LTSpice proj/img/amp_ph_v2_withvalues.png\" alt=\"AC Analysis\" style=\"width: 100%\"/>\n",
    "</center>"
   ]
  }
 ],
 "metadata": {
  "kernelspec": {
   "display_name": "myenv",
   "language": "python",
   "name": "python3"
  },
  "language_info": {
   "codemirror_mode": {
    "name": "ipython",
    "version": 3
   },
   "file_extension": ".py",
   "mimetype": "text/x-python",
   "name": "python",
   "nbconvert_exporter": "python",
   "pygments_lexer": "ipython3",
   "version": "3.11.9"
  }
 },
 "nbformat": 4,
 "nbformat_minor": 2
}
